{
 "cells": [
  {
   "cell_type": "code",
   "execution_count": 1,
   "id": "84a35fdc-9121-42d3-967c-81453ded28bb",
   "metadata": {},
   "outputs": [],
   "source": [
    "import pandas as pd\n",
    "import geopandas\n",
    "import os "
   ]
  },
  {
   "cell_type": "code",
   "execution_count": 2,
   "id": "3816407d-17a6-4120-be68-8a24ccf1d944",
   "metadata": {},
   "outputs": [
    {
     "name": "stdout",
     "output_type": "stream",
     "text": [
      "Hello World dsadsae\n"
     ]
    }
   ],
   "source": [
    "print(\"Hello World dsadsae\")"
   ]
  },
  {
   "cell_type": "code",
   "execution_count": null,
   "id": "4416d245-c61c-4a10-a046-caa706399fd1",
   "metadata": {},
   "outputs": [],
   "source": []
  },
  {
   "cell_type": "code",
   "execution_count": null,
   "id": "78cf4d31-35c5-482c-a11d-582cd35db377",
   "metadata": {},
   "outputs": [],
   "source": []
  }
 ],
 "metadata": {
  "kernelspec": {
   "display_name": "Python 3 (ipykernel)",
   "language": "python",
   "name": "python3"
  },
  "language_info": {
   "codemirror_mode": {
    "name": "ipython",
    "version": 3
   },
   "file_extension": ".py",
   "mimetype": "text/x-python",
   "name": "python",
   "nbconvert_exporter": "python",
   "pygments_lexer": "ipython3",
   "version": "3.8.13"
  }
 },
 "nbformat": 4,
 "nbformat_minor": 5
}
